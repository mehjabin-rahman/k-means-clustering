{
 "cells": [
  {
   "cell_type": "code",
   "execution_count": 1,
   "id": "debbb82d",
   "metadata": {},
   "outputs": [],
   "source": [
    "import numpy as np\n",
    "import pandas as pd\n",
    "import matplotlib.pyplot as plt\n",
    "from sklearn.preprocessing import LabelEncoder\n",
    "#from sklearn.preprocessing import MinMaxScaler\n",
    "from sklearn.decomposition import PCA\n",
    "from sklearn.preprocessing import StandardScaler\n",
    "from sklearn import metrics\n",
    "from sklearn.model_selection import ParameterGrid\n",
    "from sklearn.cluster import KMeans"
   ]
  },
  {
   "cell_type": "code",
   "execution_count": 2,
   "id": "09fb84bc",
   "metadata": {},
   "outputs": [
    {
     "name": "stdout",
     "output_type": "stream",
     "text": [
      "   USERID  Gender Date_of_birth  age             State        City Country\n",
      "0       1    Male      9/2/1991   31           ONTARIO     TORONTO  CANADA\n",
      "1       2    Male     2/27/2002   21  BRITISH_COLUMBIA   Vancouver  CANADA\n",
      "2       3  Female     2/27/2003   20      SASKATCHEWAN   Saskatoon  CANADA\n",
      "3       4  Female     2/28/2000   23          DELAWARE  Wilmington      US\n",
      "4       5  Female      3/1/1992   31          DELAWARE  Wilmington      US\n",
      "5       6  Female     2/27/2001   22          DELAWARE  Wilmington      US\n",
      "6       7  Female      3/2/1988   35           ONTARIO     TORONTO  CANADA\n",
      "7       8  Female     2/28/2000   23  BRITISH_COLUMBIA   Vancouver  CANADA\n",
      "8       9    Male     3/10/1959   64      SASKATCHEWAN   Saskatoon  CANADA\n",
      "9      10  Female      3/1/1993   30      SASKATCHEWAN   Saskatoon  CANADA\n"
     ]
    }
   ],
   "source": [
    "df = pd.read_csv(\"usertabledata.csv\")\n",
    "print(df.head(10))\n",
    "df.dropna(inplace=True)\n",
    "df=df.drop(['Date_of_birth'], axis=1)\n",
    "labelEncoder = LabelEncoder()\n",
    "labelEncoder.fit(df['Gender'])\n",
    "df['Gender'] = labelEncoder.transform(df['Gender'])\n",
    "labelEncoder.fit(df['State'])\n",
    "df['State'] = labelEncoder.transform(df['State'])\n",
    "labelEncoder.fit(df['City'])\n",
    "df['City'] = labelEncoder.transform(df['City'])\n",
    "labelEncoder.fit(df['Country'])\n",
    "df['Country'] = labelEncoder.transform(df['Country'])\n"
   ]
  },
  {
   "cell_type": "code",
   "execution_count": 3,
   "id": "d6375879",
   "metadata": {},
   "outputs": [
    {
     "data": {
      "text/html": [
       "<div>\n",
       "<style scoped>\n",
       "    .dataframe tbody tr th:only-of-type {\n",
       "        vertical-align: middle;\n",
       "    }\n",
       "\n",
       "    .dataframe tbody tr th {\n",
       "        vertical-align: top;\n",
       "    }\n",
       "\n",
       "    .dataframe thead th {\n",
       "        text-align: right;\n",
       "    }\n",
       "</style>\n",
       "<table border=\"1\" class=\"dataframe\">\n",
       "  <thead>\n",
       "    <tr style=\"text-align: right;\">\n",
       "      <th></th>\n",
       "      <th>USERID</th>\n",
       "      <th>Gender</th>\n",
       "      <th>age</th>\n",
       "      <th>State</th>\n",
       "      <th>City</th>\n",
       "      <th>Country</th>\n",
       "    </tr>\n",
       "  </thead>\n",
       "  <tbody>\n",
       "    <tr>\n",
       "      <th>0</th>\n",
       "      <td>1</td>\n",
       "      <td>1</td>\n",
       "      <td>31</td>\n",
       "      <td>2</td>\n",
       "      <td>1</td>\n",
       "      <td>0</td>\n",
       "    </tr>\n",
       "    <tr>\n",
       "      <th>1</th>\n",
       "      <td>2</td>\n",
       "      <td>1</td>\n",
       "      <td>21</td>\n",
       "      <td>0</td>\n",
       "      <td>2</td>\n",
       "      <td>0</td>\n",
       "    </tr>\n",
       "    <tr>\n",
       "      <th>2</th>\n",
       "      <td>3</td>\n",
       "      <td>0</td>\n",
       "      <td>20</td>\n",
       "      <td>3</td>\n",
       "      <td>0</td>\n",
       "      <td>0</td>\n",
       "    </tr>\n",
       "    <tr>\n",
       "      <th>3</th>\n",
       "      <td>4</td>\n",
       "      <td>0</td>\n",
       "      <td>23</td>\n",
       "      <td>1</td>\n",
       "      <td>3</td>\n",
       "      <td>1</td>\n",
       "    </tr>\n",
       "    <tr>\n",
       "      <th>4</th>\n",
       "      <td>5</td>\n",
       "      <td>0</td>\n",
       "      <td>31</td>\n",
       "      <td>1</td>\n",
       "      <td>3</td>\n",
       "      <td>1</td>\n",
       "    </tr>\n",
       "    <tr>\n",
       "      <th>...</th>\n",
       "      <td>...</td>\n",
       "      <td>...</td>\n",
       "      <td>...</td>\n",
       "      <td>...</td>\n",
       "      <td>...</td>\n",
       "      <td>...</td>\n",
       "    </tr>\n",
       "    <tr>\n",
       "      <th>194</th>\n",
       "      <td>195</td>\n",
       "      <td>0</td>\n",
       "      <td>47</td>\n",
       "      <td>2</td>\n",
       "      <td>1</td>\n",
       "      <td>0</td>\n",
       "    </tr>\n",
       "    <tr>\n",
       "      <th>196</th>\n",
       "      <td>197</td>\n",
       "      <td>0</td>\n",
       "      <td>45</td>\n",
       "      <td>3</td>\n",
       "      <td>0</td>\n",
       "      <td>0</td>\n",
       "    </tr>\n",
       "    <tr>\n",
       "      <th>197</th>\n",
       "      <td>198</td>\n",
       "      <td>1</td>\n",
       "      <td>32</td>\n",
       "      <td>3</td>\n",
       "      <td>0</td>\n",
       "      <td>0</td>\n",
       "    </tr>\n",
       "    <tr>\n",
       "      <th>198</th>\n",
       "      <td>199</td>\n",
       "      <td>1</td>\n",
       "      <td>32</td>\n",
       "      <td>3</td>\n",
       "      <td>0</td>\n",
       "      <td>0</td>\n",
       "    </tr>\n",
       "    <tr>\n",
       "      <th>199</th>\n",
       "      <td>200</td>\n",
       "      <td>1</td>\n",
       "      <td>30</td>\n",
       "      <td>3</td>\n",
       "      <td>0</td>\n",
       "      <td>0</td>\n",
       "    </tr>\n",
       "  </tbody>\n",
       "</table>\n",
       "<p>191 rows × 6 columns</p>\n",
       "</div>"
      ],
      "text/plain": [
       "     USERID  Gender  age  State  City  Country\n",
       "0         1       1   31      2     1        0\n",
       "1         2       1   21      0     2        0\n",
       "2         3       0   20      3     0        0\n",
       "3         4       0   23      1     3        1\n",
       "4         5       0   31      1     3        1\n",
       "..      ...     ...  ...    ...   ...      ...\n",
       "194     195       0   47      2     1        0\n",
       "196     197       0   45      3     0        0\n",
       "197     198       1   32      3     0        0\n",
       "198     199       1   32      3     0        0\n",
       "199     200       1   30      3     0        0\n",
       "\n",
       "[191 rows x 6 columns]"
      ]
     },
     "execution_count": 3,
     "metadata": {},
     "output_type": "execute_result"
    }
   ],
   "source": [
    "df"
   ]
  },
  {
   "cell_type": "code",
   "execution_count": 4,
   "id": "034981da",
   "metadata": {},
   "outputs": [
    {
     "name": "stdout",
     "output_type": "stream",
     "text": [
      "             USERID        Gender           age         State          City  \\\n",
      "count  1.910000e+02  1.910000e+02  1.910000e+02  1.910000e+02  1.910000e+02   \n",
      "mean  -7.440238e-17  2.999346e-16 -2.232071e-16 -5.347671e-17  2.557582e-17   \n",
      "std    1.002628e+00  1.002628e+00  1.002628e+00  1.002628e+00  1.002628e+00   \n",
      "min   -1.700131e+00 -9.050125e-01 -1.504737e+00 -1.473608e+00 -1.295992e+00   \n",
      "25%   -8.481342e-01 -9.050125e-01 -7.229735e-01 -5.538070e-01 -3.475840e-01   \n",
      "50%   -1.370406e-02 -9.050125e-01 -2.254873e-01  3.659942e-01 -3.475840e-01   \n",
      "75%    8.207260e-01  1.104957e+00  6.984154e-01  3.659942e-01  6.008238e-01   \n",
      "max    1.795692e+00  1.104957e+00  2.190874e+00  1.285795e+00  1.549232e+00   \n",
      "\n",
      "            Country  \n",
      "count  1.910000e+02  \n",
      "mean  -2.389014e-16  \n",
      "std    1.002628e+00  \n",
      "min   -4.901630e-01  \n",
      "25%   -4.901630e-01  \n",
      "50%   -4.901630e-01  \n",
      "75%   -4.901630e-01  \n",
      "max    2.040138e+00  \n"
     ]
    }
   ],
   "source": [
    "df_scaled = df.copy()\n",
    "df_scaled[df_scaled.columns] = StandardScaler().fit_transform(df_scaled)\n",
    "print(df_scaled.describe())"
   ]
  },
  {
   "cell_type": "code",
   "execution_count": 5,
   "id": "b5415e19",
   "metadata": {},
   "outputs": [
    {
     "name": "stdout",
     "output_type": "stream",
     "text": [
      "Explained variation per principal component: [0.38709405 0.18310309]\n",
      "Cumulative variance explained by 2 principal components: 57.02%\n"
     ]
    },
    {
     "data": {
      "text/plain": [
       "array([[-0.91829426, -0.42376449],\n",
       "       [ 0.73840053, -0.74595835],\n",
       "       [-1.79988935, -2.11550774],\n",
       "       [ 2.27973534, -2.03511321],\n",
       "       [ 2.20762838, -1.80030014],\n",
       "       [ 2.29474938, -2.04287599],\n",
       "       [-0.84219907, -1.68352591],\n",
       "       [ 0.83322842, -2.06188317],\n",
       "       [-2.29168322,  0.61408882],\n",
       "       [-1.87378593, -1.76357453],\n",
       "       [-2.31413458,  0.71865283],\n",
       "       [ 2.1899299 , -1.61685713],\n",
       "       [ 1.97732768, -0.96081856],\n",
       "       [ 2.29860745, -1.90543692],\n",
       "       [ 2.08305122, -0.09717038],\n",
       "       [ 2.22637032, -0.50823643],\n",
       "       [ 2.20404913, -1.56605984],\n",
       "       [ 2.25075072, -0.54408091],\n",
       "       [-1.06415839,  0.34882148],\n",
       "       [ 0.75471837, -1.60298926],\n",
       "       [-1.98617289, -0.078367  ],\n",
       "       [-1.88968554, -0.34902455],\n",
       "       [-1.98693754, -1.18219436],\n",
       "       [-1.94023595, -0.16021543],\n",
       "       [-2.05622066, -0.93722183],\n",
       "       [-1.91585556, -0.19605992],\n",
       "       [-1.96627581, -1.16963822],\n",
       "       [-1.96640597, -0.00725079],\n",
       "       [-0.82690621, -1.31960932],\n",
       "       [-0.6648544 , -1.78683878],\n",
       "       [-1.10520305,  0.69538859],\n",
       "       [-0.64047401, -1.82268326],\n",
       "       [-1.0339909 ,  0.5191356 ],\n",
       "       [-0.70334478, -0.45356447],\n",
       "       [-0.89426029, -1.00591727],\n",
       "       [-0.62917862, -1.78204543],\n",
       "       [-0.82304814, -1.18217025],\n",
       "       [-0.70782809, -1.5089912 ],\n",
       "       [-0.76120235, -1.33034154],\n",
       "       [-0.60851689, -1.76948929],\n",
       "       [-1.02717882, -0.4956533 ],\n",
       "       [-0.73695212, -0.2037986 ],\n",
       "       [-0.95892069,  0.48032168],\n",
       "       [-0.70025136, -1.41995275],\n",
       "       [-1.71592937, -1.56632423],\n",
       "       [ 2.14826925, -0.84005057],\n",
       "       [ 2.36651916, -1.47577023],\n",
       "       [ 2.35061031, -1.40944737],\n",
       "       [-0.68330829, -1.358996  ],\n",
       "       [-0.84907875, -0.84336593],\n",
       "       [-0.79301081,  0.15053129],\n",
       "       [-0.67483675, -1.32851763],\n",
       "       [-1.03088824,  0.90097443],\n",
       "       [-0.84714972, -0.77464639],\n",
       "       [-0.91284434,  0.58431294],\n",
       "       [ 0.70933906, -0.77778209],\n",
       "       [ 0.44695108,  1.17089296],\n",
       "       [ 0.93977917, -1.43142399],\n",
       "       [ 0.60246038,  0.74190467],\n",
       "       [ 0.44605627,  1.22945304],\n",
       "       [-0.63364344, -0.14101793],\n",
       "       [ 0.57642053, -0.26751812],\n",
       "       [-1.94609066, -0.54100295],\n",
       "       [-2.12418149,  1.15493679],\n",
       "       [-1.69987186, -0.09858028],\n",
       "       [-1.83458926, -0.81942328],\n",
       "       [-2.06592418, -0.10722131],\n",
       "       [-1.70076667, -0.04002021],\n",
       "       [-1.72308787, -1.09784362],\n",
       "       [-2.17280286,  1.41246545],\n",
       "       [-1.85793544, -0.65629919],\n",
       "       [-0.88998399, -0.31095913],\n",
       "       [ 0.67304729, -0.35233598],\n",
       "       [-2.05847762,  1.14420457],\n",
       "       [ 0.90053339,  0.14625009],\n",
       "       [ 0.82201409, -0.74308312],\n",
       "       [ 0.77505217,  0.55971281],\n",
       "       [-0.52648594, -1.28902531],\n",
       "       [ 0.79302023, -0.60027794],\n",
       "       [ 0.62429575,  1.0675801 ],\n",
       "       [ 0.80508026,  0.54418725],\n",
       "       [ 0.53627993,  1.36871602],\n",
       "       [ 0.83241466, -0.64388521],\n",
       "       [ 1.06939727, -1.33576827],\n",
       "       [ 0.72271214,  0.86564209],\n",
       "       [ 0.75658904, -0.36067153],\n",
       "       [ 1.06850246, -1.27720819],\n",
       "       [ 0.9589301 , -0.93006833],\n",
       "       [ 0.81189234, -0.47060166],\n",
       "       [-0.91408557,  0.09656472],\n",
       "       [-0.53956171,  0.13568412],\n",
       "       [-0.81772838,  0.9882946 ],\n",
       "       [-0.64335621, -0.65924452],\n",
       "       [-0.56560156, -0.87373867],\n",
       "       [-0.58446443,  0.34481216],\n",
       "       [-0.70044913, -0.43219424],\n",
       "       [-0.51029827, -0.9836688 ],\n",
       "       [-0.80078531,  1.04925136],\n",
       "       [-0.53570364,  0.27312319],\n",
       "       [-0.46436133, -1.06551722],\n",
       "       [-0.7050626 , -0.32523355],\n",
       "       [-0.96745058,  1.6234415 ],\n",
       "       [ 0.97960108,  0.43071492],\n",
       "       [-1.88009873,  1.16817132],\n",
       "       [ 1.12869804, -1.12241964],\n",
       "       [ 0.71003611,  0.15141635],\n",
       "       [ 0.72863865,  1.25764038],\n",
       "       [-0.95987386,  1.71247995],\n",
       "       [-0.93831731,  1.66647601],\n",
       "       [-2.01301727,  1.67843528],\n",
       "       [-1.48272377, -1.03620847],\n",
       "       [-1.65786059, -0.4924967 ],\n",
       "       [-1.5736936 ,  0.41715543],\n",
       "       [-0.37799573, -1.06369331],\n",
       "       [ 1.1756692 , -1.07698846],\n",
       "       [-1.88072397,  0.25018366],\n",
       "       [-0.65988106, -0.16268221],\n",
       "       [-0.67578992, -0.09635935],\n",
       "       [-0.66359972, -0.11428159],\n",
       "       [-0.54196733,  0.68304373],\n",
       "       [ 1.01465162, -0.48247939],\n",
       "       [ 0.99874276, -0.41615653],\n",
       "       [ 0.91431544,  0.9989662 ],\n",
       "       [ 1.16361842, -0.87322653],\n",
       "       [ 1.09151146, -0.63841346],\n",
       "       [ 0.88532158,  1.14177138],\n",
       "       [ 0.91624448,  1.06768574],\n",
       "       [ 0.74110766,  1.61139751],\n",
       "       [ 0.94062487,  1.03184125],\n",
       "       [ 0.85915156,  1.29473602],\n",
       "       [-1.71019138,  1.16165969],\n",
       "       [-1.47962111, -0.65436964],\n",
       "       [-1.53299537, -0.47571997],\n",
       "       [-0.43686903,  0.62870424],\n",
       "       [ 1.13848262, -0.59298228],\n",
       "       [-1.64628639, -0.08017949],\n",
       "       [-0.5407937 ,  0.99616303],\n",
       "       [-0.41620729,  0.64126037],\n",
       "       [-0.46662754, -0.33231793],\n",
       "       [-0.66986341,  0.29563894],\n",
       "       [ 1.03070913,  0.98526455],\n",
       "       [-1.4794817 , -0.46852995],\n",
       "       [-1.51412326, -0.34604369],\n",
       "       [-1.54235247,  0.90058884],\n",
       "       [-1.56762768,  0.9949934 ],\n",
       "       [-0.66524069,  1.53690536],\n",
       "       [ 1.14426972, -0.38682367],\n",
       "       [-1.51873673, -0.23908299],\n",
       "       [-0.52564025,  1.17423993],\n",
       "       [-0.60711356,  1.43713469],\n",
       "       [-0.56682431,  1.33496735],\n",
       "       [-0.5142147 ,  0.05249033],\n",
       "       [ 1.10501469, -0.15737672],\n",
       "       [-1.62355621,  0.18693587],\n",
       "       [-0.50022563,  1.26567506],\n",
       "       [-1.69091029,  0.50062793],\n",
       "       [ 2.66970491, -0.26142856],\n",
       "       [ 2.66957475,  0.90095887],\n",
       "       [ 2.6566199 , -0.18494624],\n",
       "       [ 2.38486557,  1.79181051],\n",
       "       [ 2.61543584, -0.02421882],\n",
       "       [ 2.46544407,  1.58747582],\n",
       "       [ 2.64918259, -0.08814501],\n",
       "       [ 2.62390738,  0.00625955],\n",
       "       [ 2.56757911,  1.33713719],\n",
       "       [ 2.49547215,  1.57195025],\n",
       "       [ 2.61069221,  1.2451293 ],\n",
       "       [ 2.53858525,  1.47994237],\n",
       "       [ 2.54140909,  1.49010182],\n",
       "       [ 2.49098885,  0.51652352],\n",
       "       [ 2.69987241, -0.09111444],\n",
       "       [-0.67418882,  2.12250613],\n",
       "       [-1.76479763,  2.20078826],\n",
       "       [ 2.56771852,  1.52297687],\n",
       "       [ 2.64842718,  0.15625476],\n",
       "       [ 2.69808278,  0.02600571],\n",
       "       [-0.54484953,  1.84648247],\n",
       "       [-1.48264272,  0.32322942],\n",
       "       [ 2.63149335,  1.44352512],\n",
       "       [ 2.5061423 ,  0.69460042],\n",
       "       [ 2.65587375,  1.40768064],\n",
       "       [-0.38445719,  0.33398574],\n",
       "       [-1.40013519,  0.18761426],\n",
       "       [ 2.72632124,  0.1276003 ],\n",
       "       [ 2.62316122,  1.59888643],\n",
       "       [ 2.67577083,  0.31640942],\n",
       "       [-0.42371221,  0.56343269],\n",
       "       [-1.48622197,  0.55746972],\n",
       "       [-1.45825308,  1.63561205],\n",
       "       [-1.45542924,  1.64577151],\n",
       "       [-1.43387269,  1.59976757]])"
      ]
     },
     "execution_count": 5,
     "metadata": {},
     "output_type": "execute_result"
    }
   ],
   "source": [
    "pca_2 = PCA(n_components=2)\n",
    "pca_2_result = pca_2.fit_transform(df_scaled)\n",
    "print('Explained variation per principal component: {}'.format(pca_2.explained_variance_ratio_))\n",
    "print('Cumulative variance explained by 2 principal components: {:.2%}'.format(\n",
    "        np.sum(pca_2.explained_variance_ratio_)))\n",
    "\n",
    "pca_2_result\n",
    "\n"
   ]
  },
  {
   "cell_type": "code",
   "execution_count": 6,
   "id": "d8c22354",
   "metadata": {},
   "outputs": [
    {
     "data": {
      "image/png": "[encoded data removed]",
      "text/plain": [
       "<Figure size 432x288 with 1 Axes>"
      ]
     },
     "metadata": {
      "needs_background": "light"
     },
     "output_type": "display_data"
    }
   ],
   "source": [
    "Ks = range(1, 15)\n",
    "\n",
    "results = []\n",
    "\n",
    "# Executing the loop\n",
    "for K in Ks:\n",
    "    \n",
    "    model = KMeans(n_clusters = K)\n",
    "    model.fit(df_scaled)\n",
    "    \n",
    "    results.append(model.inertia_)\n",
    "\n",
    "# Plotting the final result\n",
    "plt.plot(Ks, results, 'o-')\n",
    "plt.xlabel(\"Values of K\")\n",
    "plt.ylabel(\"SSE\")\n",
    "plt.show()"
   ]
  },
  {
   "cell_type": "code",
   "execution_count": 7,
   "id": "d579bada",
   "metadata": {},
   "outputs": [],
   "source": [
    "def visualizing_results(pca_result, label, centroids_pca):\n",
    "    x = pca_result[:, 0]\n",
    "    y = pca_result[:, 1]\n",
    "\n",
    "    plt.scatter(x, y, c=label, alpha=1, s=200) \n",
    "    plt.title('K-means clustering')\n",
    "    plt.xlabel('PCA 1')\n",
    "    plt.ylabel('PCA 2')\n",
    "\n",
    "    plt.scatter(centroids_pca[:, 0], centroids_pca[:, 1], marker='X', s=200, linewidths=1.5,\n",
    "                color='red', edgecolors=\"black\", lw=1.5)\n",
    "\n",
    "    plt.show()\n"
   ]
  },
  {
   "cell_type": "code",
   "execution_count": 8,
   "id": "8e861231",
   "metadata": {},
   "outputs": [
    {
     "name": "stdout",
     "output_type": "stream",
     "text": [
      "Visualizing the data\n"
     ]
    },
    {
     "data": {
      "image/png": "[encoded data removed]",
      "text/plain": [
       "<Figure size 432x288 with 1 Axes>"
      ]
     },
     "metadata": {
      "needs_background": "light"
     },
     "output_type": "display_data"
    }
   ],
   "source": [
    "kmeans = KMeans(n_clusters=4)\n",
    "kmeans.fit(df_scaled)\n",
    "centroids = kmeans.cluster_centers_\n",
    "centroids_pca = pca_2.transform(centroids)\n",
    "\n",
    "print(\"Visualizing the data\")\n",
    "visualizing_results(pca_2_result, kmeans.labels_, centroids_pca)\n"
   ]
  },
  {
   "cell_type": "code",
   "execution_count": 9,
   "id": "e5251bd1",
   "metadata": {},
   "outputs": [
    {
     "name": "stdout",
     "output_type": "stream",
     "text": [
      "Visualizing the data\n"
     ]
    },
    {
     "data": {
      "image/png": "[encoded data removed]",
      "text/plain": [
       "<Figure size 432x288 with 1 Axes>"
      ]
     },
     "metadata": {
      "needs_background": "light"
     },
     "output_type": "display_data"
    }
   ],
   "source": [
    "kmeans = KMeans(n_clusters=3)\n",
    "kmeans.fit(df_scaled)\n",
    "centroids = kmeans.cluster_centers_\n",
    "centroids_pca = pca_2.transform(centroids)\n",
    "\n",
    "print(\"Visualizing the data\")\n",
    "visualizing_results(pca_2_result, kmeans.labels_, centroids_pca)"
   ]
  },
  {
   "cell_type": "code",
   "execution_count": 10,
   "id": "29ee799e",
   "metadata": {},
   "outputs": [],
   "source": [
    "X=df_scaled.iloc[:,:].values"
   ]
  },
  {
   "cell_type": "code",
   "execution_count": 11,
   "id": "e4b2db16",
   "metadata": {},
   "outputs": [
    {
     "data": {
      "text/plain": [
       "array([[-1.7001312 ,  1.10495712, -0.58083457,  0.36599421, -0.347584  ,\n",
       "        -0.49016297],\n",
       "       [-1.68256425,  1.10495712, -1.29152901, -1.47360827,  0.60082377,\n",
       "        -0.49016297],\n",
       "       [-1.6649973 , -0.9050125 , -1.36259845,  1.28579545, -1.29599176,\n",
       "        -0.49016297],\n",
       "       ...,\n",
       "       [ 1.76055783,  1.10495712, -0.50976512,  1.28579545, -1.29599176,\n",
       "        -0.49016297],\n",
       "       [ 1.77812478,  1.10495712, -0.50976512,  1.28579545, -1.29599176,\n",
       "        -0.49016297],\n",
       "       [ 1.79569173,  1.10495712, -0.65190401,  1.28579545, -1.29599176,\n",
       "        -0.49016297]])"
      ]
     },
     "execution_count": 11,
     "metadata": {},
     "output_type": "execute_result"
    }
   ],
   "source": [
    "X"
   ]
  },
  {
   "cell_type": "code",
   "execution_count": 12,
   "id": "b3eb11ba",
   "metadata": {},
   "outputs": [
    {
     "data": {
      "image/png": "[encoded data removed]",
      "text/plain": [
       "<Figure size 432x288 with 1 Axes>"
      ]
     },
     "metadata": {
      "needs_background": "light"
     },
     "output_type": "display_data"
    }
   ],
   "source": [
    "import scipy.cluster.hierarchy as sch\n",
    "dendrogrm=sch.dendrogram(sch.linkage(X,method='ward'))\n",
    "plt.title('Dendrogram')\n",
    "plt.xlabel('X')\n",
    "plt.ylabel('Euclidean distance')\n",
    "plt.show()"
   ]
  },
  {
   "cell_type": "code",
   "execution_count": null,
   "id": "2199e6f7",
   "metadata": {},
   "outputs": [],
   "source": []
  }
 ],
 "metadata": {
  "kernelspec": {
   "display_name": "Python 3",
   "language": "python",
   "name": "python3"
  },
  "language_info": {
   "codemirror_mode": {
    "name": "ipython",
    "version": 3
   },
   "file_extension": ".py",
   "mimetype": "text/x-python",
   "name": "python",
   "nbconvert_exporter": "python",
   "pygments_lexer": "ipython3",
   "version": "3.7.6"
  }
 },
 "nbformat": 4,
 "nbformat_minor": 5
}
